{
 "cells": [
  {
   "cell_type": "code",
   "execution_count": null,
   "id": "e51292b1",
   "metadata": {},
   "outputs": [],
   "source": [
    "import pandas as pd\n",
    "import matplotlib.pyplot as plt\n",
    "\n",
    "from mlhandmade.plot import(\n",
    "    scatter_plot,\n",
    "    plot_decision_regions,\n",
    "    plot_confusion_matrix\n",
    ")\n",
    "from mlhandmade.model_selection import(\n",
    "    confusion_matrix,\n",
    "    accuracy_score,\n",
    ")\n",
    "from mlhandmade.preprocessing import(\n",
    "    standardize,\n",
    "    ordinal,\n",
    ")\n",
    "from mlhandmade.linear_models import SoftmaxRegressor"
   ]
  },
  {
   "cell_type": "code",
   "execution_count": null,
   "id": "2e810dd4",
   "metadata": {},
   "outputs": [],
   "source": [
    "iris = pd.read_csv(\"../datasets/iris.csv\")\n",
    "iris.head()"
   ]
  },
  {
   "cell_type": "code",
   "execution_count": null,
   "id": "0ef16224",
   "metadata": {},
   "outputs": [],
   "source": [
    "X = iris.iloc[:, [0, 3]].values\n",
    "y = iris.iloc[:, -1].values\n",
    "\n",
    "X = standardize(X)\n",
    "y = ordinal(y)\n",
    "fig = plt.figure(figsize=(10,8))\n",
    "ax = scatter_plot(X, y, legend=2)"
   ]
  },
  {
   "cell_type": "code",
   "execution_count": null,
   "id": "85fc959c",
   "metadata": {},
   "outputs": [],
   "source": [
    "model = SoftmaxRegressor(eta=0.1, epochs=400)\n",
    "model.fit(X, y)\n",
    "\n",
    "fig = plt.figure(figsize=(10,8))\n",
    "ax = plot_decision_regions(X, y, model, legend=2)"
   ]
  },
  {
   "cell_type": "code",
   "execution_count": null,
   "id": "8d89b989",
   "metadata": {},
   "outputs": [],
   "source": [
    "y_pred = model.predict(X)\n",
    "acc = accuracy_score(y, y_pred, normalize=True)\n",
    "cm = confusion_matrix(y, y_pred, normalize=\"pred\")\n",
    "print(f\"Accuracy: {acc}\")\n",
    "print(f\"Confusion matrix:\\n{cm}\")"
   ]
  },
  {
   "cell_type": "code",
   "execution_count": null,
   "id": "6c06ba26",
   "metadata": {},
   "outputs": [],
   "source": [
    "ax = plot_confusion_matrix(y, y_pred, normalize=\"pred\")"
   ]
  },
  {
   "cell_type": "code",
   "execution_count": null,
   "id": "803f98d8",
   "metadata": {},
   "outputs": [],
   "source": []
  }
 ],
 "metadata": {
  "kernelspec": {
   "display_name": "Python 3 (ipykernel)",
   "language": "python",
   "name": "python3"
  },
  "language_info": {
   "codemirror_mode": {
    "name": "ipython",
    "version": 3
   },
   "file_extension": ".py",
   "mimetype": "text/x-python",
   "name": "python",
   "nbconvert_exporter": "python",
   "pygments_lexer": "ipython3",
   "version": "3.9.13"
  }
 },
 "nbformat": 4,
 "nbformat_minor": 5
}
